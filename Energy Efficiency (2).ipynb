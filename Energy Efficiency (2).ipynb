{
 "cells": [
  {
   "cell_type": "code",
   "execution_count": 79,
   "id": "6d1c871d",
   "metadata": {},
   "outputs": [],
   "source": [
    "import numpy as np\n",
    "import pandas as pd\n",
    "import seaborn as sns\n",
    "import statistics  as stats \n",
    "import matplotlib.pyplot as plt\n",
    "from warnings import filterwarnings\n",
    "filterwarnings('ignore')\n",
    "pd.options.display.max_columns = None\n",
    "pd.options.display.max_rows = None   \n",
    "pd.options.display.float_format = '{:.6f}'.format\n",
    "from sklearn.model_selection import train_test_split\n",
    "import statsmodels\n",
    "import statsmodels.api as sm\n",
    "import statsmodels.stats.api as sms\n",
    "from statsmodels.graphics.gofplots import qqplot\n",
    "from statsmodels.stats.outliers_influence import variance_inflation_factor\n",
    "from scipy import stats\n",
    "from sklearn.metrics import mean_squared_error\n",
    "\n",
    "from sklearn.feature_selection import RFE\n",
    "from sklearn.linear_model import LinearRegression\n",
    "from sklearn.model_selection import LeaveOneOut\n",
    "from sklearn.model_selection import cross_val_score\n",
    "from sklearn.model_selection import KFold\n",
    "from statsmodels.graphics.gofplots import qqplot\n",
    "from sklearn.preprocessing import StandardScaler \n",
    "from sklearn.linear_model import SGDRegressor\n",
    "from sklearn.linear_model import Ridge\n",
    "from sklearn.linear_model import Lasso\n",
    "from sklearn.linear_model import ElasticNet\n",
    "from xgboost import XGBRegressor\n",
    "from sklearn.model_selection import GridSearchCV\n",
    "import pydotplus\n",
    "from IPython.display import Image  \n",
    "from sklearn.feature_selection import RFE\n",
    "from statsmodels.compat import lzip\n",
    "from statsmodels.stats.anova import anova_lm\n",
    "from statsmodels.formula.api import ols\n",
    "from statsmodels.tools.eval_measures import rmse\n",
    "from scipy import stats\n",
    "from scipy.stats import shapiro\n",
    "from sklearn.metrics import mean_absolute_error\n",
    "from sklearn.metrics import mean_squared_error\n",
    "from sklearn.metrics import classification_report\n",
    "from sklearn.metrics import confusion_matrix\n",
    "from sklearn.metrics import roc_curve\n",
    "from sklearn.metrics import roc_auc_score\n",
    "from sklearn.ensemble import AdaBoostRegressor\n",
    "from sklearn.ensemble import GradientBoostingRegressor\n",
    "from sklearn.model_selection import GridSearchCV\n",
    "from sklearn.ensemble import StackingRegressor\n",
    "from sklearn.ensemble import RandomForestRegressor\n",
    "from sklearn.neighbors import KNeighborsRegressor\n",
    "from sklearn.naive_bayes import GaussianNB"
   ]
  },
  {
   "cell_type": "code",
   "execution_count": 3,
   "id": "fc67457c",
   "metadata": {},
   "outputs": [],
   "source": [
    "df=pd.read_excel('https://archive.ics.uci.edu/ml/machine-learning-databases/00242/ENB2012_data.xlsx',names=['Relative Compactness','Surface Area','Wall Area','Roof Area','Overall Height','Orientation','Glazing Area','Glazing Area Distribution','Heating Load','Cooling Load'])"
   ]
  },
  {
   "cell_type": "code",
   "execution_count": 4,
   "id": "f51d6b64",
   "metadata": {},
   "outputs": [
    {
     "data": {
      "text/html": [
       "<div>\n",
       "<style scoped>\n",
       "    .dataframe tbody tr th:only-of-type {\n",
       "        vertical-align: middle;\n",
       "    }\n",
       "\n",
       "    .dataframe tbody tr th {\n",
       "        vertical-align: top;\n",
       "    }\n",
       "\n",
       "    .dataframe thead th {\n",
       "        text-align: right;\n",
       "    }\n",
       "</style>\n",
       "<table border=\"1\" class=\"dataframe\">\n",
       "  <thead>\n",
       "    <tr style=\"text-align: right;\">\n",
       "      <th></th>\n",
       "      <th>Relative Compactness</th>\n",
       "      <th>Surface Area</th>\n",
       "      <th>Wall Area</th>\n",
       "      <th>Roof Area</th>\n",
       "      <th>Overall Height</th>\n",
       "      <th>Orientation</th>\n",
       "      <th>Glazing Area</th>\n",
       "      <th>Glazing Area Distribution</th>\n",
       "      <th>Heating Load</th>\n",
       "      <th>Cooling Load</th>\n",
       "    </tr>\n",
       "  </thead>\n",
       "  <tbody>\n",
       "    <tr>\n",
       "      <th>0</th>\n",
       "      <td>0.98</td>\n",
       "      <td>514.5</td>\n",
       "      <td>294.0</td>\n",
       "      <td>110.25</td>\n",
       "      <td>7.0</td>\n",
       "      <td>2</td>\n",
       "      <td>0.0</td>\n",
       "      <td>0</td>\n",
       "      <td>15.55</td>\n",
       "      <td>21.33</td>\n",
       "    </tr>\n",
       "    <tr>\n",
       "      <th>1</th>\n",
       "      <td>0.98</td>\n",
       "      <td>514.5</td>\n",
       "      <td>294.0</td>\n",
       "      <td>110.25</td>\n",
       "      <td>7.0</td>\n",
       "      <td>3</td>\n",
       "      <td>0.0</td>\n",
       "      <td>0</td>\n",
       "      <td>15.55</td>\n",
       "      <td>21.33</td>\n",
       "    </tr>\n",
       "    <tr>\n",
       "      <th>2</th>\n",
       "      <td>0.98</td>\n",
       "      <td>514.5</td>\n",
       "      <td>294.0</td>\n",
       "      <td>110.25</td>\n",
       "      <td>7.0</td>\n",
       "      <td>4</td>\n",
       "      <td>0.0</td>\n",
       "      <td>0</td>\n",
       "      <td>15.55</td>\n",
       "      <td>21.33</td>\n",
       "    </tr>\n",
       "    <tr>\n",
       "      <th>3</th>\n",
       "      <td>0.98</td>\n",
       "      <td>514.5</td>\n",
       "      <td>294.0</td>\n",
       "      <td>110.25</td>\n",
       "      <td>7.0</td>\n",
       "      <td>5</td>\n",
       "      <td>0.0</td>\n",
       "      <td>0</td>\n",
       "      <td>15.55</td>\n",
       "      <td>21.33</td>\n",
       "    </tr>\n",
       "    <tr>\n",
       "      <th>4</th>\n",
       "      <td>0.90</td>\n",
       "      <td>563.5</td>\n",
       "      <td>318.5</td>\n",
       "      <td>122.50</td>\n",
       "      <td>7.0</td>\n",
       "      <td>2</td>\n",
       "      <td>0.0</td>\n",
       "      <td>0</td>\n",
       "      <td>20.84</td>\n",
       "      <td>28.28</td>\n",
       "    </tr>\n",
       "  </tbody>\n",
       "</table>\n",
       "</div>"
      ],
      "text/plain": [
       "   Relative Compactness  Surface Area  Wall Area  Roof Area  Overall Height  \\\n",
       "0                  0.98         514.5      294.0     110.25             7.0   \n",
       "1                  0.98         514.5      294.0     110.25             7.0   \n",
       "2                  0.98         514.5      294.0     110.25             7.0   \n",
       "3                  0.98         514.5      294.0     110.25             7.0   \n",
       "4                  0.90         563.5      318.5     122.50             7.0   \n",
       "\n",
       "   Orientation  Glazing Area  Glazing Area Distribution  Heating Load  \\\n",
       "0            2           0.0                          0         15.55   \n",
       "1            3           0.0                          0         15.55   \n",
       "2            4           0.0                          0         15.55   \n",
       "3            5           0.0                          0         15.55   \n",
       "4            2           0.0                          0         20.84   \n",
       "\n",
       "   Cooling Load  \n",
       "0         21.33  \n",
       "1         21.33  \n",
       "2         21.33  \n",
       "3         21.33  \n",
       "4         28.28  "
      ]
     },
     "execution_count": 4,
     "metadata": {},
     "output_type": "execute_result"
    }
   ],
   "source": [
    "df.head()"
   ]
  },
  {
   "cell_type": "code",
   "execution_count": 5,
   "id": "1f04b7b9",
   "metadata": {},
   "outputs": [
    {
     "data": {
      "text/plain": [
       "(768, 10)"
      ]
     },
     "execution_count": 5,
     "metadata": {},
     "output_type": "execute_result"
    }
   ],
   "source": [
    "df.shape"
   ]
  },
  {
   "cell_type": "code",
   "execution_count": 6,
   "id": "1c2d6640",
   "metadata": {},
   "outputs": [
    {
     "data": {
      "text/plain": [
       "<bound method DataFrame.info of      Relative Compactness  Surface Area  Wall Area  Roof Area  Overall Height  \\\n",
       "0                    0.98         514.5      294.0     110.25             7.0   \n",
       "1                    0.98         514.5      294.0     110.25             7.0   \n",
       "2                    0.98         514.5      294.0     110.25             7.0   \n",
       "3                    0.98         514.5      294.0     110.25             7.0   \n",
       "4                    0.90         563.5      318.5     122.50             7.0   \n",
       "..                    ...           ...        ...        ...             ...   \n",
       "763                  0.64         784.0      343.0     220.50             3.5   \n",
       "764                  0.62         808.5      367.5     220.50             3.5   \n",
       "765                  0.62         808.5      367.5     220.50             3.5   \n",
       "766                  0.62         808.5      367.5     220.50             3.5   \n",
       "767                  0.62         808.5      367.5     220.50             3.5   \n",
       "\n",
       "     Orientation  Glazing Area  Glazing Area Distribution  Heating Load  \\\n",
       "0              2           0.0                          0         15.55   \n",
       "1              3           0.0                          0         15.55   \n",
       "2              4           0.0                          0         15.55   \n",
       "3              5           0.0                          0         15.55   \n",
       "4              2           0.0                          0         20.84   \n",
       "..           ...           ...                        ...           ...   \n",
       "763            5           0.4                          5         17.88   \n",
       "764            2           0.4                          5         16.54   \n",
       "765            3           0.4                          5         16.44   \n",
       "766            4           0.4                          5         16.48   \n",
       "767            5           0.4                          5         16.64   \n",
       "\n",
       "     Cooling Load  \n",
       "0           21.33  \n",
       "1           21.33  \n",
       "2           21.33  \n",
       "3           21.33  \n",
       "4           28.28  \n",
       "..            ...  \n",
       "763         21.40  \n",
       "764         16.88  \n",
       "765         17.11  \n",
       "766         16.61  \n",
       "767         16.03  \n",
       "\n",
       "[768 rows x 10 columns]>"
      ]
     },
     "execution_count": 6,
     "metadata": {},
     "output_type": "execute_result"
    }
   ],
   "source": [
    "df.info"
   ]
  },
  {
   "cell_type": "code",
   "execution_count": 7,
   "id": "7451e102",
   "metadata": {},
   "outputs": [
    {
     "data": {
      "text/html": [
       "<div>\n",
       "<style scoped>\n",
       "    .dataframe tbody tr th:only-of-type {\n",
       "        vertical-align: middle;\n",
       "    }\n",
       "\n",
       "    .dataframe tbody tr th {\n",
       "        vertical-align: top;\n",
       "    }\n",
       "\n",
       "    .dataframe thead th {\n",
       "        text-align: right;\n",
       "    }\n",
       "</style>\n",
       "<table border=\"1\" class=\"dataframe\">\n",
       "  <thead>\n",
       "    <tr style=\"text-align: right;\">\n",
       "      <th></th>\n",
       "      <th>Relative Compactness</th>\n",
       "      <th>Surface Area</th>\n",
       "      <th>Wall Area</th>\n",
       "      <th>Roof Area</th>\n",
       "      <th>Overall Height</th>\n",
       "      <th>Orientation</th>\n",
       "      <th>Glazing Area</th>\n",
       "      <th>Glazing Area Distribution</th>\n",
       "      <th>Heating Load</th>\n",
       "      <th>Cooling Load</th>\n",
       "    </tr>\n",
       "  </thead>\n",
       "  <tbody>\n",
       "    <tr>\n",
       "      <th>count</th>\n",
       "      <td>768.000000</td>\n",
       "      <td>768.000000</td>\n",
       "      <td>768.000000</td>\n",
       "      <td>768.000000</td>\n",
       "      <td>768.00000</td>\n",
       "      <td>768.000000</td>\n",
       "      <td>768.000000</td>\n",
       "      <td>768.00000</td>\n",
       "      <td>768.000000</td>\n",
       "      <td>768.000000</td>\n",
       "    </tr>\n",
       "    <tr>\n",
       "      <th>mean</th>\n",
       "      <td>0.764167</td>\n",
       "      <td>671.708333</td>\n",
       "      <td>318.500000</td>\n",
       "      <td>176.604167</td>\n",
       "      <td>5.25000</td>\n",
       "      <td>3.500000</td>\n",
       "      <td>0.234375</td>\n",
       "      <td>2.81250</td>\n",
       "      <td>22.307195</td>\n",
       "      <td>24.587760</td>\n",
       "    </tr>\n",
       "    <tr>\n",
       "      <th>std</th>\n",
       "      <td>0.105777</td>\n",
       "      <td>88.086116</td>\n",
       "      <td>43.626481</td>\n",
       "      <td>45.165950</td>\n",
       "      <td>1.75114</td>\n",
       "      <td>1.118763</td>\n",
       "      <td>0.133221</td>\n",
       "      <td>1.55096</td>\n",
       "      <td>10.090204</td>\n",
       "      <td>9.513306</td>\n",
       "    </tr>\n",
       "    <tr>\n",
       "      <th>min</th>\n",
       "      <td>0.620000</td>\n",
       "      <td>514.500000</td>\n",
       "      <td>245.000000</td>\n",
       "      <td>110.250000</td>\n",
       "      <td>3.50000</td>\n",
       "      <td>2.000000</td>\n",
       "      <td>0.000000</td>\n",
       "      <td>0.00000</td>\n",
       "      <td>6.010000</td>\n",
       "      <td>10.900000</td>\n",
       "    </tr>\n",
       "    <tr>\n",
       "      <th>25%</th>\n",
       "      <td>0.682500</td>\n",
       "      <td>606.375000</td>\n",
       "      <td>294.000000</td>\n",
       "      <td>140.875000</td>\n",
       "      <td>3.50000</td>\n",
       "      <td>2.750000</td>\n",
       "      <td>0.100000</td>\n",
       "      <td>1.75000</td>\n",
       "      <td>12.992500</td>\n",
       "      <td>15.620000</td>\n",
       "    </tr>\n",
       "    <tr>\n",
       "      <th>50%</th>\n",
       "      <td>0.750000</td>\n",
       "      <td>673.750000</td>\n",
       "      <td>318.500000</td>\n",
       "      <td>183.750000</td>\n",
       "      <td>5.25000</td>\n",
       "      <td>3.500000</td>\n",
       "      <td>0.250000</td>\n",
       "      <td>3.00000</td>\n",
       "      <td>18.950000</td>\n",
       "      <td>22.080000</td>\n",
       "    </tr>\n",
       "    <tr>\n",
       "      <th>75%</th>\n",
       "      <td>0.830000</td>\n",
       "      <td>741.125000</td>\n",
       "      <td>343.000000</td>\n",
       "      <td>220.500000</td>\n",
       "      <td>7.00000</td>\n",
       "      <td>4.250000</td>\n",
       "      <td>0.400000</td>\n",
       "      <td>4.00000</td>\n",
       "      <td>31.667500</td>\n",
       "      <td>33.132500</td>\n",
       "    </tr>\n",
       "    <tr>\n",
       "      <th>max</th>\n",
       "      <td>0.980000</td>\n",
       "      <td>808.500000</td>\n",
       "      <td>416.500000</td>\n",
       "      <td>220.500000</td>\n",
       "      <td>7.00000</td>\n",
       "      <td>5.000000</td>\n",
       "      <td>0.400000</td>\n",
       "      <td>5.00000</td>\n",
       "      <td>43.100000</td>\n",
       "      <td>48.030000</td>\n",
       "    </tr>\n",
       "  </tbody>\n",
       "</table>\n",
       "</div>"
      ],
      "text/plain": [
       "       Relative Compactness  Surface Area   Wall Area   Roof Area  \\\n",
       "count            768.000000    768.000000  768.000000  768.000000   \n",
       "mean               0.764167    671.708333  318.500000  176.604167   \n",
       "std                0.105777     88.086116   43.626481   45.165950   \n",
       "min                0.620000    514.500000  245.000000  110.250000   \n",
       "25%                0.682500    606.375000  294.000000  140.875000   \n",
       "50%                0.750000    673.750000  318.500000  183.750000   \n",
       "75%                0.830000    741.125000  343.000000  220.500000   \n",
       "max                0.980000    808.500000  416.500000  220.500000   \n",
       "\n",
       "       Overall Height  Orientation  Glazing Area  Glazing Area Distribution  \\\n",
       "count       768.00000   768.000000    768.000000                  768.00000   \n",
       "mean          5.25000     3.500000      0.234375                    2.81250   \n",
       "std           1.75114     1.118763      0.133221                    1.55096   \n",
       "min           3.50000     2.000000      0.000000                    0.00000   \n",
       "25%           3.50000     2.750000      0.100000                    1.75000   \n",
       "50%           5.25000     3.500000      0.250000                    3.00000   \n",
       "75%           7.00000     4.250000      0.400000                    4.00000   \n",
       "max           7.00000     5.000000      0.400000                    5.00000   \n",
       "\n",
       "       Heating Load  Cooling Load  \n",
       "count    768.000000    768.000000  \n",
       "mean      22.307195     24.587760  \n",
       "std       10.090204      9.513306  \n",
       "min        6.010000     10.900000  \n",
       "25%       12.992500     15.620000  \n",
       "50%       18.950000     22.080000  \n",
       "75%       31.667500     33.132500  \n",
       "max       43.100000     48.030000  "
      ]
     },
     "execution_count": 7,
     "metadata": {},
     "output_type": "execute_result"
    }
   ],
   "source": [
    "df.describe()"
   ]
  },
  {
   "cell_type": "code",
   "execution_count": 8,
   "id": "49de5d58",
   "metadata": {},
   "outputs": [
    {
     "data": {
      "text/plain": [
       "Relative Compactness         0\n",
       "Surface Area                 0\n",
       "Wall Area                    0\n",
       "Roof Area                    0\n",
       "Overall Height               0\n",
       "Orientation                  0\n",
       "Glazing Area                 0\n",
       "Glazing Area Distribution    0\n",
       "Heating Load                 0\n",
       "Cooling Load                 0\n",
       "dtype: int64"
      ]
     },
     "execution_count": 8,
     "metadata": {},
     "output_type": "execute_result"
    }
   ],
   "source": [
    "df.isnull().sum()"
   ]
  },
  {
   "cell_type": "markdown",
   "id": "0cb2b0cc",
   "metadata": {},
   "source": [
    "# UNIVARIATE ANALYSIS"
   ]
  },
  {
   "cell_type": "code",
   "execution_count": 9,
   "id": "8c122335",
   "metadata": {},
   "outputs": [
    {
     "data": {
      "text/plain": [
       "12"
      ]
     },
     "execution_count": 9,
     "metadata": {},
     "output_type": "execute_result"
    }
   ],
   "source": [
    "df['Relative Compactness'].nunique()"
   ]
  },
  {
   "cell_type": "code",
   "execution_count": 11,
   "id": "1cb0fb3f",
   "metadata": {},
   "outputs": [
    {
     "data": {
      "text/plain": [
       "0.98    64\n",
       "0.90    64\n",
       "0.86    64\n",
       "0.82    64\n",
       "0.79    64\n",
       "0.76    64\n",
       "0.74    64\n",
       "0.71    64\n",
       "0.69    64\n",
       "0.66    64\n",
       "0.64    64\n",
       "0.62    64\n",
       "Name: Relative Compactness, dtype: int64"
      ]
     },
     "execution_count": 11,
     "metadata": {},
     "output_type": "execute_result"
    }
   ],
   "source": [
    "df['Relative Compactness'].value_counts()"
   ]
  },
  {
   "cell_type": "code",
   "execution_count": 26,
   "id": "d0c5517c",
   "metadata": {},
   "outputs": [],
   "source": [
    "#Inference-The Relative Compactness is equally distributed in the dataset."
   ]
  },
  {
   "cell_type": "code",
   "execution_count": 14,
   "id": "6a1ec448",
   "metadata": {},
   "outputs": [
    {
     "data": {
      "text/plain": [
       "12"
      ]
     },
     "execution_count": 14,
     "metadata": {},
     "output_type": "execute_result"
    }
   ],
   "source": [
    "df['Surface Area'].nunique()"
   ]
  },
  {
   "cell_type": "code",
   "execution_count": 15,
   "id": "34d4cd41",
   "metadata": {},
   "outputs": [
    {
     "data": {
      "text/plain": [
       "514.5    64\n",
       "563.5    64\n",
       "588.0    64\n",
       "612.5    64\n",
       "637.0    64\n",
       "661.5    64\n",
       "686.0    64\n",
       "710.5    64\n",
       "735.0    64\n",
       "759.5    64\n",
       "784.0    64\n",
       "808.5    64\n",
       "Name: Surface Area, dtype: int64"
      ]
     },
     "execution_count": 15,
     "metadata": {},
     "output_type": "execute_result"
    }
   ],
   "source": [
    "df['Surface Area'].value_counts()"
   ]
  },
  {
   "cell_type": "code",
   "execution_count": 18,
   "id": "54d252e8",
   "metadata": {},
   "outputs": [
    {
     "data": {
      "image/png": "[encoded data removed]",
      "text/plain": [
       "<Figure size 432x288 with 1 Axes>"
      ]
     },
     "metadata": {},
     "output_type": "display_data"
    }
   ],
   "source": [
    "import matplotlib.pyplot as plt\n",
    "plt.pie(df['Surface Area'].value_counts(),autopct= '%6.f%%')\n",
    "plt.show()"
   ]
  },
  {
   "cell_type": "code",
   "execution_count": null,
   "id": "77481d62",
   "metadata": {},
   "outputs": [],
   "source": [
    "#Inference-The surface area is equally distributed in the dataset."
   ]
  },
  {
   "cell_type": "code",
   "execution_count": 19,
   "id": "472b10a2",
   "metadata": {},
   "outputs": [
    {
     "data": {
      "text/plain": [
       "7"
      ]
     },
     "execution_count": 19,
     "metadata": {},
     "output_type": "execute_result"
    }
   ],
   "source": [
    "df['Wall Area'].nunique()"
   ]
  },
  {
   "cell_type": "code",
   "execution_count": 21,
   "id": "3c9cedd2",
   "metadata": {},
   "outputs": [
    {
     "data": {
      "text/plain": [
       "294.0    192\n",
       "318.5    192\n",
       "343.0    128\n",
       "416.5     64\n",
       "245.0     64\n",
       "269.5     64\n",
       "367.5     64\n",
       "Name: Wall Area, dtype: int64"
      ]
     },
     "execution_count": 21,
     "metadata": {},
     "output_type": "execute_result"
    }
   ],
   "source": [
    "df['Wall Area'].value_counts()"
   ]
  },
  {
   "cell_type": "code",
   "execution_count": 25,
   "id": "e361249d",
   "metadata": {},
   "outputs": [
    {
     "data": {
      "image/png": "[encoded data removed]",
      "text/plain": [
       "<Figure size 432x288 with 1 Axes>"
      ]
     },
     "metadata": {},
     "output_type": "display_data"
    }
   ],
   "source": [
    "plt.pie(df['Wall Area'].value_counts(),labels=['294','318.5','343','416.5','245','269.5','367.5'],autopct= '%6.f%%')\n",
    "plt.show()"
   ]
  },
  {
   "cell_type": "code",
   "execution_count": null,
   "id": "e596c70b",
   "metadata": {},
   "outputs": [],
   "source": [
    "#Inference-67% of the data belongs to three categories of area 294,318.5 and 343."
   ]
  },
  {
   "cell_type": "code",
   "execution_count": 29,
   "id": "4c78a79d",
   "metadata": {},
   "outputs": [
    {
     "data": {
      "text/plain": [
       "220.50    384\n",
       "147.00    192\n",
       "122.50    128\n",
       "110.25     64\n",
       "Name: Roof Area, dtype: int64"
      ]
     },
     "execution_count": 29,
     "metadata": {},
     "output_type": "execute_result"
    }
   ],
   "source": [
    "df['Roof Area'].value_counts()"
   ]
  },
  {
   "cell_type": "code",
   "execution_count": 28,
   "id": "a9ef6da6",
   "metadata": {},
   "outputs": [
    {
     "name": "stderr",
     "output_type": "stream",
     "text": [
      "C:\\anaconda\\lib\\site-packages\\seaborn\\_decorators.py:36: FutureWarning: Pass the following variable as a keyword arg: x. From version 0.12, the only valid positional argument will be `data`, and passing other arguments without an explicit keyword will result in an error or misinterpretation.\n",
      "  warnings.warn(\n"
     ]
    },
    {
     "data": {
      "image/png": "[encoded data removed]",
      "text/plain": [
       "<Figure size 432x288 with 1 Axes>"
      ]
     },
     "metadata": {
      "needs_background": "light"
     },
     "output_type": "display_data"
    }
   ],
   "source": [
    "sns.countplot(df['Roof Area'] )\n",
    "plt.show()"
   ]
  },
  {
   "cell_type": "code",
   "execution_count": null,
   "id": "17ee73e5",
   "metadata": {},
   "outputs": [],
   "source": [
    "#Inference-Roof area of 220.5 has the highest frequency in the dataset."
   ]
  },
  {
   "cell_type": "code",
   "execution_count": 30,
   "id": "0d9fed83",
   "metadata": {},
   "outputs": [
    {
     "data": {
      "text/plain": [
       "7.0    384\n",
       "3.5    384\n",
       "Name: Overall Height, dtype: int64"
      ]
     },
     "execution_count": 30,
     "metadata": {},
     "output_type": "execute_result"
    }
   ],
   "source": [
    "df['Overall Height'].value_counts()"
   ]
  },
  {
   "cell_type": "code",
   "execution_count": 31,
   "id": "c3caf7dc",
   "metadata": {},
   "outputs": [
    {
     "name": "stderr",
     "output_type": "stream",
     "text": [
      "C:\\anaconda\\lib\\site-packages\\seaborn\\_decorators.py:36: FutureWarning: Pass the following variable as a keyword arg: x. From version 0.12, the only valid positional argument will be `data`, and passing other arguments without an explicit keyword will result in an error or misinterpretation.\n",
      "  warnings.warn(\n"
     ]
    },
    {
     "data": {
      "image/png": "[encoded data removed]",
      "text/plain": [
       "<Figure size 432x288 with 1 Axes>"
      ]
     },
     "metadata": {
      "needs_background": "light"
     },
     "output_type": "display_data"
    }
   ],
   "source": [
    "sns.countplot(df['Overall Height'] )\n",
    "plt.show()"
   ]
  },
  {
   "cell_type": "code",
   "execution_count": null,
   "id": "cfdb8543",
   "metadata": {},
   "outputs": [],
   "source": [
    "#Inference-The height is equally distributed"
   ]
  },
  {
   "cell_type": "code",
   "execution_count": 32,
   "id": "35512930",
   "metadata": {},
   "outputs": [
    {
     "data": {
      "text/plain": [
       "2    192\n",
       "3    192\n",
       "4    192\n",
       "5    192\n",
       "Name: Orientation, dtype: int64"
      ]
     },
     "execution_count": 32,
     "metadata": {},
     "output_type": "execute_result"
    }
   ],
   "source": [
    "df['Orientation'].value_counts()"
   ]
  },
  {
   "cell_type": "code",
   "execution_count": 33,
   "id": "7380499c",
   "metadata": {},
   "outputs": [
    {
     "name": "stderr",
     "output_type": "stream",
     "text": [
      "C:\\anaconda\\lib\\site-packages\\seaborn\\_decorators.py:36: FutureWarning: Pass the following variable as a keyword arg: x. From version 0.12, the only valid positional argument will be `data`, and passing other arguments without an explicit keyword will result in an error or misinterpretation.\n",
      "  warnings.warn(\n"
     ]
    },
    {
     "data": {
      "image/png": "[encoded data removed]",
      "text/plain": [
       "<Figure size 432x288 with 1 Axes>"
      ]
     },
     "metadata": {
      "needs_background": "light"
     },
     "output_type": "display_data"
    }
   ],
   "source": [
    "sns.countplot(df['Orientation'] )\n",
    "plt.show()"
   ]
  },
  {
   "cell_type": "code",
   "execution_count": null,
   "id": "bdf930c9",
   "metadata": {},
   "outputs": [],
   "source": [
    "#Inference- Orientation is equally distributed amongst data."
   ]
  },
  {
   "cell_type": "code",
   "execution_count": 34,
   "id": "fdbea963",
   "metadata": {},
   "outputs": [
    {
     "data": {
      "text/plain": [
       "0.10    240\n",
       "0.25    240\n",
       "0.40    240\n",
       "0.00     48\n",
       "Name: Glazing Area, dtype: int64"
      ]
     },
     "execution_count": 34,
     "metadata": {},
     "output_type": "execute_result"
    }
   ],
   "source": [
    "df['Glazing Area'].value_counts()"
   ]
  },
  {
   "cell_type": "code",
   "execution_count": 35,
   "id": "0c4bc1f5",
   "metadata": {},
   "outputs": [
    {
     "name": "stderr",
     "output_type": "stream",
     "text": [
      "C:\\anaconda\\lib\\site-packages\\seaborn\\_decorators.py:36: FutureWarning: Pass the following variable as a keyword arg: x. From version 0.12, the only valid positional argument will be `data`, and passing other arguments without an explicit keyword will result in an error or misinterpretation.\n",
      "  warnings.warn(\n"
     ]
    },
    {
     "data": {
      "image/png": "[encoded data removed]",
      "text/plain": [
       "<Figure size 432x288 with 1 Axes>"
      ]
     },
     "metadata": {
      "needs_background": "light"
     },
     "output_type": "display_data"
    }
   ],
   "source": [
    "sns.countplot(df['Glazing Area'] )\n",
    "plt.show()"
   ]
  },
  {
   "cell_type": "code",
   "execution_count": null,
   "id": "11bc59c1",
   "metadata": {},
   "outputs": [],
   "source": [
    "#Inference-Glazing area of 0.0 has the least frequency amongst others."
   ]
  },
  {
   "cell_type": "code",
   "execution_count": 36,
   "id": "02037cc7",
   "metadata": {},
   "outputs": [
    {
     "data": {
      "text/plain": [
       "1    144\n",
       "2    144\n",
       "3    144\n",
       "4    144\n",
       "5    144\n",
       "0     48\n",
       "Name: Glazing Area Distribution, dtype: int64"
      ]
     },
     "execution_count": 36,
     "metadata": {},
     "output_type": "execute_result"
    }
   ],
   "source": [
    "df['Glazing Area Distribution'].value_counts()"
   ]
  },
  {
   "cell_type": "code",
   "execution_count": 38,
   "id": "00c4fa04",
   "metadata": {},
   "outputs": [
    {
     "name": "stderr",
     "output_type": "stream",
     "text": [
      "C:\\anaconda\\lib\\site-packages\\seaborn\\_decorators.py:36: FutureWarning: Pass the following variable as a keyword arg: x. From version 0.12, the only valid positional argument will be `data`, and passing other arguments without an explicit keyword will result in an error or misinterpretation.\n",
      "  warnings.warn(\n"
     ]
    },
    {
     "data": {
      "image/png": "[encoded data removed]",
      "text/plain": [
       "<Figure size 432x288 with 1 Axes>"
      ]
     },
     "metadata": {
      "needs_background": "light"
     },
     "output_type": "display_data"
    }
   ],
   "source": [
    "sns.countplot(df['Glazing Area Distribution'] )\n",
    "plt.show()"
   ]
  },
  {
   "cell_type": "code",
   "execution_count": null,
   "id": "1257ef4f",
   "metadata": {},
   "outputs": [],
   "source": [
    "#Inference-Glazing Area Distribution of category 0 has the lowest frequency."
   ]
  },
  {
   "cell_type": "code",
   "execution_count": 40,
   "id": "4b15882a",
   "metadata": {},
   "outputs": [
    {
     "name": "stderr",
     "output_type": "stream",
     "text": [
      "C:\\anaconda\\lib\\site-packages\\seaborn\\distributions.py:2619: FutureWarning: `distplot` is a deprecated function and will be removed in a future version. Please adapt your code to use either `displot` (a figure-level function with similar flexibility) or `histplot` (an axes-level function for histograms).\n",
      "  warnings.warn(msg, FutureWarning)\n"
     ]
    },
    {
     "data": {
      "image/png": "[encoded data removed]",
      "text/plain": [
       "<Figure size 432x288 with 1 Axes>"
      ]
     },
     "metadata": {
      "needs_background": "light"
     },
     "output_type": "display_data"
    }
   ],
   "source": [
    "sns.distplot(df['Heating Load'])\n",
    "plt.show()"
   ]
  },
  {
   "cell_type": "code",
   "execution_count": null,
   "id": "664cb55c",
   "metadata": {},
   "outputs": [],
   "source": [
    "#Inference- Heating Load ranges from 5 to 45 approximately."
   ]
  },
  {
   "cell_type": "code",
   "execution_count": 42,
   "id": "b41c4eb5",
   "metadata": {},
   "outputs": [
    {
     "name": "stderr",
     "output_type": "stream",
     "text": [
      "C:\\anaconda\\lib\\site-packages\\seaborn\\distributions.py:2619: FutureWarning: `distplot` is a deprecated function and will be removed in a future version. Please adapt your code to use either `displot` (a figure-level function with similar flexibility) or `histplot` (an axes-level function for histograms).\n",
      "  warnings.warn(msg, FutureWarning)\n"
     ]
    },
    {
     "data": {
      "image/png": "[encoded data removed]",
      "text/plain": [
       "<Figure size 432x288 with 1 Axes>"
      ]
     },
     "metadata": {
      "needs_background": "light"
     },
     "output_type": "display_data"
    }
   ],
   "source": [
    "sns.distplot(df['Cooling Load'])\n",
    "plt.show()"
   ]
  },
  {
   "cell_type": "code",
   "execution_count": 43,
   "id": "7d01546a",
   "metadata": {},
   "outputs": [],
   "source": [
    "#Inference- Cooling Load ranges from 11 to 48 approximately."
   ]
  },
  {
   "cell_type": "markdown",
   "id": "b40edb37",
   "metadata": {},
   "source": [
    "# Cooling Load(Train_test_split)"
   ]
  },
  {
   "cell_type": "code",
   "execution_count": 45,
   "id": "98a59004",
   "metadata": {},
   "outputs": [],
   "source": [
    "from sklearn.model_selection import train_test_split"
   ]
  },
  {
   "cell_type": "code",
   "execution_count": 58,
   "id": "56270665",
   "metadata": {},
   "outputs": [],
   "source": [
    "X=df.iloc[:,:8]\n",
    "y=df.iloc[:,9:10]\n"
   ]
  },
  {
   "cell_type": "code",
   "execution_count": 59,
   "id": "e8000ae1",
   "metadata": {},
   "outputs": [
    {
     "name": "stdout",
     "output_type": "stream",
     "text": [
      "X_train (537, 8)\n",
      "y_train (537, 1)\n",
      "X_test (231, 8)\n",
      "y_test (231, 1)\n"
     ]
    }
   ],
   "source": [
    "X_train, X_test, y_train, y_test = train_test_split(X, y, random_state = 10, test_size = 0.3)\n",
    "print('X_train', X_train.shape)\n",
    "print('y_train', y_train.shape)\n",
    "print('X_test', X_test.shape)\n",
    "print('y_test', y_test.shape)"
   ]
  },
  {
   "cell_type": "code",
   "execution_count": 60,
   "id": "635b24ca",
   "metadata": {},
   "outputs": [
    {
     "data": {
      "text/plain": [
       "0.8812289039037088"
      ]
     },
     "execution_count": 60,
     "metadata": {},
     "output_type": "execute_result"
    }
   ],
   "source": [
    "linreg = LinearRegression()\n",
    "MLR_model = linreg.fit(X_train, y_train)\n",
    "MLR_model.score(X_train, y_train)"
   ]
  },
  {
   "cell_type": "code",
   "execution_count": 61,
   "id": "f2bff059",
   "metadata": {},
   "outputs": [
    {
     "data": {
      "text/html": [
       "<table class=\"simpletable\">\n",
       "<caption>OLS Regression Results</caption>\n",
       "<tr>\n",
       "  <th>Dep. Variable:</th>      <td>Cooling Load</td>   <th>  R-squared (uncentered):</th>      <td>   0.985</td>\n",
       "</tr>\n",
       "<tr>\n",
       "  <th>Model:</th>                   <td>OLS</td>       <th>  Adj. R-squared (uncentered):</th> <td>   0.984</td>\n",
       "</tr>\n",
       "<tr>\n",
       "  <th>Method:</th>             <td>Least Squares</td>  <th>  F-statistic:       </th>          <td>   4836.</td>\n",
       "</tr>\n",
       "<tr>\n",
       "  <th>Date:</th>             <td>Wed, 11 May 2022</td> <th>  Prob (F-statistic):</th>           <td>  0.00</td> \n",
       "</tr>\n",
       "<tr>\n",
       "  <th>Time:</th>                 <td>22:14:10</td>     <th>  Log-Likelihood:    </th>          <td> -1403.0</td>\n",
       "</tr>\n",
       "<tr>\n",
       "  <th>No. Observations:</th>      <td>   537</td>      <th>  AIC:               </th>          <td>   2820.</td>\n",
       "</tr>\n",
       "<tr>\n",
       "  <th>Df Residuals:</th>          <td>   530</td>      <th>  BIC:               </th>          <td>   2850.</td>\n",
       "</tr>\n",
       "<tr>\n",
       "  <th>Df Model:</th>              <td>     7</td>      <th>                     </th>              <td> </td>   \n",
       "</tr>\n",
       "<tr>\n",
       "  <th>Covariance Type:</th>      <td>nonrobust</td>    <th>                     </th>              <td> </td>   \n",
       "</tr>\n",
       "</table>\n",
       "<table class=\"simpletable\">\n",
       "<tr>\n",
       "              <td></td>                 <th>coef</th>     <th>std err</th>      <th>t</th>      <th>P>|t|</th>  <th>[0.025</th>    <th>0.975]</th>  \n",
       "</tr>\n",
       "<tr>\n",
       "  <th>Relative Compactness</th>      <td>  -18.3755</td> <td>    2.429</td> <td>   -7.564</td> <td> 0.000</td> <td>  -23.148</td> <td>  -13.603</td>\n",
       "</tr>\n",
       "<tr>\n",
       "  <th>Surface Area</th>              <td>    0.0017</td> <td>    0.002</td> <td>    1.004</td> <td> 0.316</td> <td>   -0.002</td> <td>    0.005</td>\n",
       "</tr>\n",
       "<tr>\n",
       "  <th>Wall Area</th>                 <td>    0.0208</td> <td>    0.005</td> <td>    4.156</td> <td> 0.000</td> <td>    0.011</td> <td>    0.031</td>\n",
       "</tr>\n",
       "<tr>\n",
       "  <th>Roof Area</th>                 <td>   -0.0095</td> <td>    0.003</td> <td>   -2.944</td> <td> 0.003</td> <td>   -0.016</td> <td>   -0.003</td>\n",
       "</tr>\n",
       "<tr>\n",
       "  <th>Overall Height</th>            <td>    5.4048</td> <td>    0.299</td> <td>   18.062</td> <td> 0.000</td> <td>    4.817</td> <td>    5.993</td>\n",
       "</tr>\n",
       "<tr>\n",
       "  <th>Orientation</th>               <td>    0.1401</td> <td>    0.129</td> <td>    1.085</td> <td> 0.279</td> <td>   -0.114</td> <td>    0.394</td>\n",
       "</tr>\n",
       "<tr>\n",
       "  <th>Glazing Area</th>              <td>   14.9686</td> <td>    1.111</td> <td>   13.470</td> <td> 0.000</td> <td>   12.786</td> <td>   17.152</td>\n",
       "</tr>\n",
       "<tr>\n",
       "  <th>Glazing Area Distribution</th> <td>    0.0589</td> <td>    0.097</td> <td>    0.610</td> <td> 0.542</td> <td>   -0.131</td> <td>    0.249</td>\n",
       "</tr>\n",
       "</table>\n",
       "<table class=\"simpletable\">\n",
       "<tr>\n",
       "  <th>Omnibus:</th>       <td>62.590</td> <th>  Durbin-Watson:     </th> <td>   2.068</td>\n",
       "</tr>\n",
       "<tr>\n",
       "  <th>Prob(Omnibus):</th> <td> 0.000</td> <th>  Jarque-Bera (JB):  </th> <td> 124.993</td>\n",
       "</tr>\n",
       "<tr>\n",
       "  <th>Skew:</th>          <td> 0.678</td> <th>  Prob(JB):          </th> <td>7.21e-28</td>\n",
       "</tr>\n",
       "<tr>\n",
       "  <th>Kurtosis:</th>      <td> 4.936</td> <th>  Cond. No.          </th> <td>1.22e+16</td>\n",
       "</tr>\n",
       "</table><br/><br/>Notes:<br/>[1] R² is computed without centering (uncentered) since the model does not contain a constant.<br/>[2] Standard Errors assume that the covariance matrix of the errors is correctly specified.<br/>[3] The smallest eigenvalue is 2.14e-24. This might indicate that there are<br/>strong multicollinearity problems or that the design matrix is singular."
      ],
      "text/plain": [
       "<class 'statsmodels.iolib.summary.Summary'>\n",
       "\"\"\"\n",
       "                                 OLS Regression Results                                \n",
       "=======================================================================================\n",
       "Dep. Variable:           Cooling Load   R-squared (uncentered):                   0.985\n",
       "Model:                            OLS   Adj. R-squared (uncentered):              0.984\n",
       "Method:                 Least Squares   F-statistic:                              4836.\n",
       "Date:                Wed, 11 May 2022   Prob (F-statistic):                        0.00\n",
       "Time:                        22:14:10   Log-Likelihood:                         -1403.0\n",
       "No. Observations:                 537   AIC:                                      2820.\n",
       "Df Residuals:                     530   BIC:                                      2850.\n",
       "Df Model:                           7                                                  \n",
       "Covariance Type:            nonrobust                                                  \n",
       "=============================================================================================\n",
       "                                coef    std err          t      P>|t|      [0.025      0.975]\n",
       "---------------------------------------------------------------------------------------------\n",
       "Relative Compactness        -18.3755      2.429     -7.564      0.000     -23.148     -13.603\n",
       "Surface Area                  0.0017      0.002      1.004      0.316      -0.002       0.005\n",
       "Wall Area                     0.0208      0.005      4.156      0.000       0.011       0.031\n",
       "Roof Area                    -0.0095      0.003     -2.944      0.003      -0.016      -0.003\n",
       "Overall Height                5.4048      0.299     18.062      0.000       4.817       5.993\n",
       "Orientation                   0.1401      0.129      1.085      0.279      -0.114       0.394\n",
       "Glazing Area                 14.9686      1.111     13.470      0.000      12.786      17.152\n",
       "Glazing Area Distribution     0.0589      0.097      0.610      0.542      -0.131       0.249\n",
       "==============================================================================\n",
       "Omnibus:                       62.590   Durbin-Watson:                   2.068\n",
       "Prob(Omnibus):                  0.000   Jarque-Bera (JB):              124.993\n",
       "Skew:                           0.678   Prob(JB):                     7.21e-28\n",
       "Kurtosis:                       4.936   Cond. No.                     1.22e+16\n",
       "==============================================================================\n",
       "\n",
       "Notes:\n",
       "[1] R² is computed without centering (uncentered) since the model does not contain a constant.\n",
       "[2] Standard Errors assume that the covariance matrix of the errors is correctly specified.\n",
       "[3] The smallest eigenvalue is 2.14e-24. This might indicate that there are\n",
       "strong multicollinearity problems or that the design matrix is singular.\n",
       "\"\"\""
      ]
     },
     "execution_count": 61,
     "metadata": {},
     "output_type": "execute_result"
    }
   ],
   "source": [
    "OLS_model = sm.OLS(y_train , X_train).fit()\n",
    "OLS_model.summary()"
   ]
  },
  {
   "cell_type": "code",
   "execution_count": 62,
   "id": "4450838c",
   "metadata": {},
   "outputs": [],
   "source": [
    "# Assumptions of ML"
   ]
  },
  {
   "cell_type": "code",
   "execution_count": 63,
   "id": "71c81240",
   "metadata": {},
   "outputs": [],
   "source": [
    "# Linearity"
   ]
  },
  {
   "cell_type": "code",
   "execution_count": 64,
   "id": "df9585cb",
   "metadata": {},
   "outputs": [
    {
     "name": "stderr",
     "output_type": "stream",
     "text": [
      "C:\\anaconda\\lib\\site-packages\\seaborn\\_decorators.py:36: FutureWarning: Pass the following variables as keyword args: x, y. From version 0.12, the only valid positional argument will be `data`, and passing other arguments without an explicit keyword will result in an error or misinterpretation.\n",
      "  warnings.warn(\n",
      "C:\\anaconda\\lib\\site-packages\\seaborn\\_decorators.py:36: FutureWarning: Pass the following variables as keyword args: x, y. From version 0.12, the only valid positional argument will be `data`, and passing other arguments without an explicit keyword will result in an error or misinterpretation.\n",
      "  warnings.warn(\n",
      "C:\\anaconda\\lib\\site-packages\\seaborn\\_decorators.py:36: FutureWarning: Pass the following variables as keyword args: x, y. From version 0.12, the only valid positional argument will be `data`, and passing other arguments without an explicit keyword will result in an error or misinterpretation.\n",
      "  warnings.warn(\n",
      "C:\\anaconda\\lib\\site-packages\\seaborn\\_decorators.py:36: FutureWarning: Pass the following variables as keyword args: x, y. From version 0.12, the only valid positional argument will be `data`, and passing other arguments without an explicit keyword will result in an error or misinterpretation.\n",
      "  warnings.warn(\n"
     ]
    },
    {
     "data": {
      "image/png": "[encoded data removed]",
      "text/plain": [
       "<Figure size 1440x1080 with 4 Axes>"
      ]
     },
     "metadata": {
      "needs_background": "light"
     },
     "output_type": "display_data"
    }
   ],
   "source": [
    "fig, ax = plt.subplots(nrows = 2, ncols= 2, figsize=(20, 15))\n",
    "for variable, subplot in zip(X_train.columns[1:5], ax.flatten()):\n",
    "    sns.scatterplot(X_train[variable], OLS_model.resid , ax=subplot)\n",
    "\n",
    "plt.show()"
   ]
  },
  {
   "cell_type": "code",
   "execution_count": 66,
   "id": "ae4be52a",
   "metadata": {},
   "outputs": [],
   "source": [
    "#Interpretation: The above plots show no specific pattern, implies that there is a linearity present in the data."
   ]
  },
  {
   "cell_type": "code",
   "execution_count": 65,
   "id": "a02eacc4",
   "metadata": {},
   "outputs": [],
   "source": [
    "# Autocorrelation"
   ]
  },
  {
   "cell_type": "code",
   "execution_count": 67,
   "id": "a580239f",
   "metadata": {},
   "outputs": [
    {
     "name": "stdout",
     "output_type": "stream",
     "text": [
      "                                 OLS Regression Results                                \n",
      "=======================================================================================\n",
      "Dep. Variable:           Cooling Load   R-squared (uncentered):                   0.985\n",
      "Model:                            OLS   Adj. R-squared (uncentered):              0.984\n",
      "Method:                 Least Squares   F-statistic:                              4836.\n",
      "Date:                Wed, 11 May 2022   Prob (F-statistic):                        0.00\n",
      "Time:                        22:19:17   Log-Likelihood:                         -1403.0\n",
      "No. Observations:                 537   AIC:                                      2820.\n",
      "Df Residuals:                     530   BIC:                                      2850.\n",
      "Df Model:                           7                                                  \n",
      "Covariance Type:            nonrobust                                                  \n",
      "=============================================================================================\n",
      "                                coef    std err          t      P>|t|      [0.025      0.975]\n",
      "---------------------------------------------------------------------------------------------\n",
      "Relative Compactness        -18.3755      2.429     -7.564      0.000     -23.148     -13.603\n",
      "Surface Area                  0.0017      0.002      1.004      0.316      -0.002       0.005\n",
      "Wall Area                     0.0208      0.005      4.156      0.000       0.011       0.031\n",
      "Roof Area                    -0.0095      0.003     -2.944      0.003      -0.016      -0.003\n",
      "Overall Height                5.4048      0.299     18.062      0.000       4.817       5.993\n",
      "Orientation                   0.1401      0.129      1.085      0.279      -0.114       0.394\n",
      "Glazing Area                 14.9686      1.111     13.470      0.000      12.786      17.152\n",
      "Glazing Area Distribution     0.0589      0.097      0.610      0.542      -0.131       0.249\n",
      "==============================================================================\n",
      "Omnibus:                       62.590   Durbin-Watson:                   2.068\n",
      "Prob(Omnibus):                  0.000   Jarque-Bera (JB):              124.993\n",
      "Skew:                           0.678   Prob(JB):                     7.21e-28\n",
      "Kurtosis:                       4.936   Cond. No.                     1.22e+16\n",
      "==============================================================================\n",
      "\n",
      "Notes:\n",
      "[1] R² is computed without centering (uncentered) since the model does not contain a constant.\n",
      "[2] Standard Errors assume that the covariance matrix of the errors is correctly specified.\n",
      "[3] The smallest eigenvalue is 2.14e-24. This might indicate that there are\n",
      "strong multicollinearity problems or that the design matrix is singular.\n"
     ]
    }
   ],
   "source": [
    "print(OLS_model.summary())"
   ]
  },
  {
   "cell_type": "code",
   "execution_count": 68,
   "id": "d27a9bc3",
   "metadata": {},
   "outputs": [],
   "source": [
    "#Interpretation: From the above summary, we can observe that the value obtained from the Durbin-Watson test statistic is close to 2 (= 1.981).\n",
    "#Thus, we conclude that there is no autocorrelation."
   ]
  },
  {
   "cell_type": "code",
   "execution_count": 69,
   "id": "e3f2e80e",
   "metadata": {},
   "outputs": [],
   "source": [
    "# Heteroskedasticity -"
   ]
  },
  {
   "cell_type": "code",
   "execution_count": 74,
   "id": "daa84287",
   "metadata": {},
   "outputs": [
    {
     "data": {
      "text/plain": [
       "[('f-value', 50.43365160005693), ('p-value', 6.3577334568972424e-55)]"
      ]
     },
     "execution_count": 74,
     "metadata": {},
     "output_type": "execute_result"
    }
   ],
   "source": [
    "name = ['f-value','p-value']\n",
    "test = sms.het_breuschpagan(OLS_model.resid, OLS_model.model.exog)\n",
    "lzip(name, test[2:])"
   ]
  },
  {
   "cell_type": "code",
   "execution_count": 75,
   "id": "095d1d91",
   "metadata": {},
   "outputs": [],
   "source": [
    "# Test of normality"
   ]
  },
  {
   "cell_type": "code",
   "execution_count": 78,
   "id": "c83d1af6",
   "metadata": {},
   "outputs": [
    {
     "name": "stderr",
     "output_type": "stream",
     "text": [
      "C:\\anaconda\\lib\\site-packages\\statsmodels\\graphics\\gofplots.py:993: UserWarning: marker is redundantly defined by the 'marker' keyword argument and the fmt string \"bo\" (-> marker='o'). The keyword argument will take precedence.\n",
      "  ax.plot(x, y, fmt, **plot_style)\n"
     ]
    },
    {
     "data": {
      "image/png": "[encoded data removed]",
      "text/plain": [
       "<Figure size 1080x576 with 1 Axes>"
      ]
     },
     "metadata": {
      "needs_background": "light"
     },
     "output_type": "display_data"
    }
   ],
   "source": [
    "plt.rcParams['figure.figsize'] = [15,8]\n",
    "qqplot(OLS_model.resid, line = 'r')\n",
    "plt.title('Q-Q Plot', fontsize = 15)\n",
    "plt.xlabel('Theoretical Quantiles', fontsize = 15)\n",
    "plt.ylabel('Sample Quantiles', fontsize = 15)\n",
    "plt.show()"
   ]
  },
  {
   "cell_type": "code",
   "execution_count": 80,
   "id": "185f4d61",
   "metadata": {},
   "outputs": [],
   "source": [
    "# Interpretation: The diagonal line (red line) is the regression line and the blue points are the cumulative distribution of the residuals. As some of the points are away from the diagonal line, \n",
    "#we conclude that the residuals do not follow a normal distribution."
   ]
  },
  {
   "cell_type": "markdown",
   "id": "6bf9db85",
   "metadata": {},
   "source": [
    "# Random Forest Regressor"
   ]
  },
  {
   "cell_type": "code",
   "execution_count": 84,
   "id": "fd9e034c",
   "metadata": {},
   "outputs": [],
   "source": [
    "rf_Regressor = RandomForestRegressor(n_estimators = 10, random_state = 10)\n",
    "rf_model = rf_Regressor.fit(X_train, y_train)"
   ]
  },
  {
   "cell_type": "code",
   "execution_count": 86,
   "id": "1011a442",
   "metadata": {},
   "outputs": [
    {
     "name": "stdout",
     "output_type": "stream",
     "text": [
      "0.7304\n"
     ]
    }
   ],
   "source": [
    "train_pred = rf_model.predict(X_train)\n",
    "mse_train = mean_squared_error(y_train, train_pred) \n",
    "rmse_train = round(np.sqrt(mse_train), 4)\n",
    "print(rmse_train)"
   ]
  },
  {
   "cell_type": "code",
   "execution_count": 88,
   "id": "a202cc47",
   "metadata": {},
   "outputs": [
    {
     "name": "stdout",
     "output_type": "stream",
     "text": [
      "1.6696\n"
     ]
    }
   ],
   "source": [
    "test_pred = rf_model.predict(X_test)\n",
    "mse_test = mean_squared_error(y_test, test_pred)\n",
    "rmse_test = round(np.sqrt(mse_test), 4)\n",
    "print(rmse_test)"
   ]
  },
  {
   "cell_type": "code",
   "execution_count": null,
   "id": "5004dfb0",
   "metadata": {},
   "outputs": [],
   "source": [
    "#The rmse observed is high and the difference between the train and test rmse is also high indicating variation in the data."
   ]
  },
  {
   "cell_type": "markdown",
   "id": "d1de76d6",
   "metadata": {},
   "source": [
    "# Recursive Feature Elimination (RFE)"
   ]
  },
  {
   "cell_type": "code",
   "execution_count": 92,
   "id": "1f2f4222",
   "metadata": {},
   "outputs": [
    {
     "name": "stdout",
     "output_type": "stream",
     "text": [
      "Index(['Relative Compactness', 'Surface Area', 'Wall Area', 'Roof Area'], dtype='object')\n"
     ]
    }
   ],
   "source": [
    "linreg_rfe = LinearRegression()\n",
    "\n",
    "rfe_model = RFE(estimator=linreg_rfe)\n",
    "\n",
    "# fit the RFE model on the training dataset using fit()\n",
    "rfe_model = rfe_model.fit(X_train, y_train)\n",
    "\n",
    "feat_index = pd.Series(data = rfe_model.ranking_, index = X_train.columns)\n",
    "\n",
    "signi_feat_rfe = feat_index[feat_index==1].index\n",
    "\n",
    "print(signi_feat_rfe)"
   ]
  },
  {
   "cell_type": "code",
   "execution_count": 93,
   "id": "38ff838f",
   "metadata": {},
   "outputs": [],
   "source": [
    "X1=df[['Relative Compactness', 'Surface Area', 'Wall Area', 'Roof Area']]"
   ]
  },
  {
   "cell_type": "code",
   "execution_count": 95,
   "id": "28e737d2",
   "metadata": {},
   "outputs": [],
   "source": [
    "df_tar=df['Cooling Load']"
   ]
  },
  {
   "cell_type": "code",
   "execution_count": 96,
   "id": "814ba71e",
   "metadata": {},
   "outputs": [],
   "source": [
    "y = (df_tar - df_tar.mean()) / df_tar.std()"
   ]
  },
  {
   "cell_type": "code",
   "execution_count": 97,
   "id": "0856cc3c",
   "metadata": {},
   "outputs": [
    {
     "name": "stdout",
     "output_type": "stream",
     "text": [
      "X_train (537, 4)\n",
      "y_train (537,)\n",
      "X_test (231, 4)\n",
      "y_test (231,)\n"
     ]
    }
   ],
   "source": [
    "X_train, X_test, y_train, y_test = train_test_split(X1, y, random_state = 10, test_size = 0.3)\n",
    "print('X_train', X_train.shape)\n",
    "print('y_train', y_train.shape)\n",
    "print('X_test', X_test.shape)\n",
    "print('y_test', y_test.shape)"
   ]
  },
  {
   "cell_type": "markdown",
   "id": "d9a777e4",
   "metadata": {},
   "source": [
    "# Multiple Linear Regression (OLS)"
   ]
  },
  {
   "cell_type": "code",
   "execution_count": 98,
   "id": "6edbde6d",
   "metadata": {},
   "outputs": [
    {
     "data": {
      "text/plain": [
       "0.8162927443255172"
      ]
     },
     "execution_count": 98,
     "metadata": {},
     "output_type": "execute_result"
    }
   ],
   "source": [
    "linreg = LinearRegression()\n",
    "MLR_model = linreg.fit(X_train, y_train)\n",
    "MLR_model.score(X_train, y_train)"
   ]
  },
  {
   "cell_type": "markdown",
   "id": "d85f93b1",
   "metadata": {},
   "source": [
    "# GradientBoosting with RFE"
   ]
  },
  {
   "cell_type": "code",
   "execution_count": 100,
   "id": "b1bd8921",
   "metadata": {},
   "outputs": [
    {
     "data": {
      "text/plain": [
       "GradientBoostingRegressor(max_depth=10, n_estimators=150, random_state=10)"
      ]
     },
     "execution_count": 100,
     "metadata": {},
     "output_type": "execute_result"
    }
   ],
   "source": [
    "gboost_model = GradientBoostingRegressor(n_estimators = 150, max_depth = 10, random_state = 10)\n",
    "gboost_model.fit(X_train, y_train)"
   ]
  },
  {
   "cell_type": "code",
   "execution_count": 101,
   "id": "67614689",
   "metadata": {},
   "outputs": [
    {
     "name": "stdout",
     "output_type": "stream",
     "text": [
      "0.2826\n"
     ]
    }
   ],
   "source": [
    "train_pred = gboost_model.predict(X_train)\n",
    "mse_train = mean_squared_error(y_train, train_pred) \n",
    "rmse_train = round(np.sqrt(mse_train), 4)\n",
    "print(rmse_train)"
   ]
  },
  {
   "cell_type": "code",
   "execution_count": 102,
   "id": "e61859d8",
   "metadata": {},
   "outputs": [
    {
     "name": "stdout",
     "output_type": "stream",
     "text": [
      "0.2739\n"
     ]
    }
   ],
   "source": [
    "test_pred = gboost_model.predict(X_test)\n",
    "mse_test = mean_squared_error(y_test, test_pred)\n",
    "rmse_test = round(np.sqrt(mse_test), 4)\n",
    "print(rmse_test)"
   ]
  },
  {
   "cell_type": "code",
   "execution_count": null,
   "id": "a53262c1",
   "metadata": {},
   "outputs": [],
   "source": [
    "#Inference-Gradient boosting method with rfe substantially reduces the rmse of train and test and the difference between them is also minor indicating this method as one of the optimum method to predict cooling load."
   ]
  },
  {
   "cell_type": "markdown",
   "id": "56c1a1a9",
   "metadata": {},
   "source": [
    "# Heating Load(Train_test_split)"
   ]
  },
  {
   "cell_type": "code",
   "execution_count": 105,
   "id": "30880aca",
   "metadata": {},
   "outputs": [],
   "source": [
    "X=df.iloc[:,:8]\n",
    "y=df.iloc[:,8:9]\n"
   ]
  },
  {
   "cell_type": "code",
   "execution_count": 123,
   "id": "9866a289",
   "metadata": {},
   "outputs": [
    {
     "name": "stdout",
     "output_type": "stream",
     "text": [
      "X_train (537, 8)\n",
      "y_train (537, 1)\n",
      "X_test (231, 8)\n",
      "y_test (231, 1)\n"
     ]
    }
   ],
   "source": [
    "X_train, X_test, y_train, y_test = train_test_split(X, y, random_state = 10, test_size = 0.3)\n",
    "print('X_train', X_train.shape)\n",
    "print('y_train', y_train.shape)\n",
    "print('X_test', X_test.shape)\n",
    "print('y_test', y_test.shape)"
   ]
  },
  {
   "cell_type": "code",
   "execution_count": 124,
   "id": "cb3e590e",
   "metadata": {},
   "outputs": [
    {
     "data": {
      "text/plain": [
       "0.9127917280280566"
      ]
     },
     "execution_count": 124,
     "metadata": {},
     "output_type": "execute_result"
    }
   ],
   "source": [
    "linreg = LinearRegression()\n",
    "MLR_model = linreg.fit(X_train, y_train)\n",
    "MLR_model.score(X_train, y_train)"
   ]
  },
  {
   "cell_type": "code",
   "execution_count": 125,
   "id": "0300fc66",
   "metadata": {},
   "outputs": [
    {
     "data": {
      "text/html": [
       "<table class=\"simpletable\">\n",
       "<caption>OLS Regression Results</caption>\n",
       "<tr>\n",
       "  <th>Dep. Variable:</th>      <td>Heating Load</td>   <th>  R-squared (uncentered):</th>      <td>   0.985</td>\n",
       "</tr>\n",
       "<tr>\n",
       "  <th>Model:</th>                   <td>OLS</td>       <th>  Adj. R-squared (uncentered):</th> <td>   0.985</td>\n",
       "</tr>\n",
       "<tr>\n",
       "  <th>Method:</th>             <td>Least Squares</td>  <th>  F-statistic:       </th>          <td>   5044.</td>\n",
       "</tr>\n",
       "<tr>\n",
       "  <th>Date:</th>             <td>Fri, 13 May 2022</td> <th>  Prob (F-statistic):</th>           <td>  0.00</td> \n",
       "</tr>\n",
       "<tr>\n",
       "  <th>Time:</th>                 <td>07:08:34</td>     <th>  Log-Likelihood:    </th>          <td> -1352.2</td>\n",
       "</tr>\n",
       "<tr>\n",
       "  <th>No. Observations:</th>      <td>   537</td>      <th>  AIC:               </th>          <td>   2718.</td>\n",
       "</tr>\n",
       "<tr>\n",
       "  <th>Df Residuals:</th>          <td>   530</td>      <th>  BIC:               </th>          <td>   2748.</td>\n",
       "</tr>\n",
       "<tr>\n",
       "  <th>Df Model:</th>              <td>     7</td>      <th>                     </th>              <td> </td>   \n",
       "</tr>\n",
       "<tr>\n",
       "  <th>Covariance Type:</th>      <td>nonrobust</td>    <th>                     </th>              <td> </td>   \n",
       "</tr>\n",
       "</table>\n",
       "<table class=\"simpletable\">\n",
       "<tr>\n",
       "              <td></td>                 <th>coef</th>     <th>std err</th>      <th>t</th>      <th>P>|t|</th>  <th>[0.025</th>    <th>0.975]</th>  \n",
       "</tr>\n",
       "<tr>\n",
       "  <th>Relative Compactness</th>      <td>  -18.6519</td> <td>    2.210</td> <td>   -8.438</td> <td> 0.000</td> <td>  -22.994</td> <td>  -14.310</td>\n",
       "</tr>\n",
       "<tr>\n",
       "  <th>Surface Area</th>              <td>   -0.0045</td> <td>    0.002</td> <td>   -2.898</td> <td> 0.004</td> <td>   -0.008</td> <td>   -0.001</td>\n",
       "</tr>\n",
       "<tr>\n",
       "  <th>Wall Area</th>                 <td>    0.0355</td> <td>    0.005</td> <td>    7.814</td> <td> 0.000</td> <td>    0.027</td> <td>    0.044</td>\n",
       "</tr>\n",
       "<tr>\n",
       "  <th>Roof Area</th>                 <td>   -0.0200</td> <td>    0.003</td> <td>   -6.804</td> <td> 0.000</td> <td>   -0.026</td> <td>   -0.014</td>\n",
       "</tr>\n",
       "<tr>\n",
       "  <th>Overall Height</th>            <td>    5.0587</td> <td>    0.272</td> <td>   18.580</td> <td> 0.000</td> <td>    4.524</td> <td>    5.594</td>\n",
       "</tr>\n",
       "<tr>\n",
       "  <th>Orientation</th>               <td>   -0.0317</td> <td>    0.118</td> <td>   -0.270</td> <td> 0.788</td> <td>   -0.263</td> <td>    0.199</td>\n",
       "</tr>\n",
       "<tr>\n",
       "  <th>Glazing Area</th>              <td>   20.4321</td> <td>    1.011</td> <td>   20.208</td> <td> 0.000</td> <td>   18.446</td> <td>   22.418</td>\n",
       "</tr>\n",
       "<tr>\n",
       "  <th>Glazing Area Distribution</th> <td>    0.1950</td> <td>    0.088</td> <td>    2.220</td> <td> 0.027</td> <td>    0.022</td> <td>    0.368</td>\n",
       "</tr>\n",
       "</table>\n",
       "<table class=\"simpletable\">\n",
       "<tr>\n",
       "  <th>Omnibus:</th>       <td> 8.170</td> <th>  Durbin-Watson:     </th> <td>   2.205</td>\n",
       "</tr>\n",
       "<tr>\n",
       "  <th>Prob(Omnibus):</th> <td> 0.017</td> <th>  Jarque-Bera (JB):  </th> <td>  12.382</td>\n",
       "</tr>\n",
       "<tr>\n",
       "  <th>Skew:</th>          <td> 0.057</td> <th>  Prob(JB):          </th> <td> 0.00205</td>\n",
       "</tr>\n",
       "<tr>\n",
       "  <th>Kurtosis:</th>      <td> 3.735</td> <th>  Cond. No.          </th> <td>1.22e+16</td>\n",
       "</tr>\n",
       "</table><br/><br/>Notes:<br/>[1] R² is computed without centering (uncentered) since the model does not contain a constant.<br/>[2] Standard Errors assume that the covariance matrix of the errors is correctly specified.<br/>[3] The smallest eigenvalue is 2.14e-24. This might indicate that there are<br/>strong multicollinearity problems or that the design matrix is singular."
      ],
      "text/plain": [
       "<class 'statsmodels.iolib.summary.Summary'>\n",
       "\"\"\"\n",
       "                                 OLS Regression Results                                \n",
       "=======================================================================================\n",
       "Dep. Variable:           Heating Load   R-squared (uncentered):                   0.985\n",
       "Model:                            OLS   Adj. R-squared (uncentered):              0.985\n",
       "Method:                 Least Squares   F-statistic:                              5044.\n",
       "Date:                Fri, 13 May 2022   Prob (F-statistic):                        0.00\n",
       "Time:                        07:08:34   Log-Likelihood:                         -1352.2\n",
       "No. Observations:                 537   AIC:                                      2718.\n",
       "Df Residuals:                     530   BIC:                                      2748.\n",
       "Df Model:                           7                                                  \n",
       "Covariance Type:            nonrobust                                                  \n",
       "=============================================================================================\n",
       "                                coef    std err          t      P>|t|      [0.025      0.975]\n",
       "---------------------------------------------------------------------------------------------\n",
       "Relative Compactness        -18.6519      2.210     -8.438      0.000     -22.994     -14.310\n",
       "Surface Area                 -0.0045      0.002     -2.898      0.004      -0.008      -0.001\n",
       "Wall Area                     0.0355      0.005      7.814      0.000       0.027       0.044\n",
       "Roof Area                    -0.0200      0.003     -6.804      0.000      -0.026      -0.014\n",
       "Overall Height                5.0587      0.272     18.580      0.000       4.524       5.594\n",
       "Orientation                  -0.0317      0.118     -0.270      0.788      -0.263       0.199\n",
       "Glazing Area                 20.4321      1.011     20.208      0.000      18.446      22.418\n",
       "Glazing Area Distribution     0.1950      0.088      2.220      0.027       0.022       0.368\n",
       "==============================================================================\n",
       "Omnibus:                        8.170   Durbin-Watson:                   2.205\n",
       "Prob(Omnibus):                  0.017   Jarque-Bera (JB):               12.382\n",
       "Skew:                           0.057   Prob(JB):                      0.00205\n",
       "Kurtosis:                       3.735   Cond. No.                     1.22e+16\n",
       "==============================================================================\n",
       "\n",
       "Notes:\n",
       "[1] R² is computed without centering (uncentered) since the model does not contain a constant.\n",
       "[2] Standard Errors assume that the covariance matrix of the errors is correctly specified.\n",
       "[3] The smallest eigenvalue is 2.14e-24. This might indicate that there are\n",
       "strong multicollinearity problems or that the design matrix is singular.\n",
       "\"\"\""
      ]
     },
     "execution_count": 125,
     "metadata": {},
     "output_type": "execute_result"
    }
   ],
   "source": [
    "OLS_model = sm.OLS(y_train , X_train).fit()\n",
    "OLS_model.summary()"
   ]
  },
  {
   "cell_type": "code",
   "execution_count": 109,
   "id": "7989bf07",
   "metadata": {},
   "outputs": [],
   "source": [
    "# Assumptions of ML"
   ]
  },
  {
   "cell_type": "code",
   "execution_count": 110,
   "id": "e343d58c",
   "metadata": {},
   "outputs": [],
   "source": [
    "# Linearity"
   ]
  },
  {
   "cell_type": "code",
   "execution_count": 111,
   "id": "02290832",
   "metadata": {},
   "outputs": [
    {
     "data": {
      "image/png": "[encoded data removed]",
      "text/plain": [
       "<Figure size 1440x1080 with 4 Axes>"
      ]
     },
     "metadata": {
      "needs_background": "light"
     },
     "output_type": "display_data"
    }
   ],
   "source": [
    "fig, ax = plt.subplots(nrows = 2, ncols= 2, figsize=(20, 15))\n",
    "for variable, subplot in zip(X_train.columns[1:5], ax.flatten()):\n",
    "    sns.scatterplot(X_train[variable], OLS_model.resid , ax=subplot)\n",
    "\n",
    "plt.show()"
   ]
  },
  {
   "cell_type": "code",
   "execution_count": 112,
   "id": "4c3098d8",
   "metadata": {},
   "outputs": [],
   "source": [
    "#Interpretation: The above plots show no specific pattern, implies that there is a linearity present in the data."
   ]
  },
  {
   "cell_type": "code",
   "execution_count": 113,
   "id": "c4e2446a",
   "metadata": {},
   "outputs": [],
   "source": [
    "# Autocorrelation"
   ]
  },
  {
   "cell_type": "code",
   "execution_count": 114,
   "id": "b016716a",
   "metadata": {},
   "outputs": [
    {
     "name": "stdout",
     "output_type": "stream",
     "text": [
      "                                 OLS Regression Results                                \n",
      "=======================================================================================\n",
      "Dep. Variable:           Heating Load   R-squared (uncentered):                   0.985\n",
      "Model:                            OLS   Adj. R-squared (uncentered):              0.985\n",
      "Method:                 Least Squares   F-statistic:                              5044.\n",
      "Date:                Fri, 13 May 2022   Prob (F-statistic):                        0.00\n",
      "Time:                        07:05:11   Log-Likelihood:                         -1352.2\n",
      "No. Observations:                 537   AIC:                                      2718.\n",
      "Df Residuals:                     530   BIC:                                      2748.\n",
      "Df Model:                           7                                                  \n",
      "Covariance Type:            nonrobust                                                  \n",
      "=============================================================================================\n",
      "                                coef    std err          t      P>|t|      [0.025      0.975]\n",
      "---------------------------------------------------------------------------------------------\n",
      "Relative Compactness        -18.6519      2.210     -8.438      0.000     -22.994     -14.310\n",
      "Surface Area                 -0.0045      0.002     -2.898      0.004      -0.008      -0.001\n",
      "Wall Area                     0.0355      0.005      7.814      0.000       0.027       0.044\n",
      "Roof Area                    -0.0200      0.003     -6.804      0.000      -0.026      -0.014\n",
      "Overall Height                5.0587      0.272     18.580      0.000       4.524       5.594\n",
      "Orientation                  -0.0317      0.118     -0.270      0.788      -0.263       0.199\n",
      "Glazing Area                 20.4321      1.011     20.208      0.000      18.446      22.418\n",
      "Glazing Area Distribution     0.1950      0.088      2.220      0.027       0.022       0.368\n",
      "==============================================================================\n",
      "Omnibus:                        8.170   Durbin-Watson:                   2.205\n",
      "Prob(Omnibus):                  0.017   Jarque-Bera (JB):               12.382\n",
      "Skew:                           0.057   Prob(JB):                      0.00205\n",
      "Kurtosis:                       3.735   Cond. No.                     1.22e+16\n",
      "==============================================================================\n",
      "\n",
      "Notes:\n",
      "[1] R² is computed without centering (uncentered) since the model does not contain a constant.\n",
      "[2] Standard Errors assume that the covariance matrix of the errors is correctly specified.\n",
      "[3] The smallest eigenvalue is 2.14e-24. This might indicate that there are\n",
      "strong multicollinearity problems or that the design matrix is singular.\n"
     ]
    }
   ],
   "source": [
    "print(OLS_model.summary())"
   ]
  },
  {
   "cell_type": "code",
   "execution_count": 115,
   "id": "1a958660",
   "metadata": {},
   "outputs": [],
   "source": [
    "#Interpretation: From the above summary, we can observe that the value obtained from the Durbin-Watson test statistic is close to 2 (= 1.981).\n",
    "#Thus, we conclude that there is no autocorrelation."
   ]
  },
  {
   "cell_type": "code",
   "execution_count": 116,
   "id": "ce8983f9",
   "metadata": {},
   "outputs": [],
   "source": [
    "# Heteroskedasticity -"
   ]
  },
  {
   "cell_type": "code",
   "execution_count": 117,
   "id": "e1e9c353",
   "metadata": {},
   "outputs": [
    {
     "data": {
      "text/plain": [
       "[('f-value', 91.23801417411681), ('p-value', 7.694263616003873e-87)]"
      ]
     },
     "execution_count": 117,
     "metadata": {},
     "output_type": "execute_result"
    }
   ],
   "source": [
    "name = ['f-value','p-value']\n",
    "test = sms.het_breuschpagan(OLS_model.resid, OLS_model.model.exog)\n",
    "lzip(name, test[2:])"
   ]
  },
  {
   "cell_type": "code",
   "execution_count": 118,
   "id": "7b10374c",
   "metadata": {},
   "outputs": [],
   "source": [
    "# Test of normality"
   ]
  },
  {
   "cell_type": "code",
   "execution_count": 119,
   "id": "c252415f",
   "metadata": {},
   "outputs": [
    {
     "data": {
      "image/png": "[encoded data removed]",
      "text/plain": [
       "<Figure size 1080x576 with 1 Axes>"
      ]
     },
     "metadata": {
      "needs_background": "light"
     },
     "output_type": "display_data"
    }
   ],
   "source": [
    "plt.rcParams['figure.figsize'] = [15,8]\n",
    "qqplot(OLS_model.resid, line = 'r')\n",
    "plt.title('Q-Q Plot', fontsize = 15)\n",
    "plt.xlabel('Theoretical Quantiles', fontsize = 15)\n",
    "plt.ylabel('Sample Quantiles', fontsize = 15)\n",
    "plt.show()"
   ]
  },
  {
   "cell_type": "code",
   "execution_count": 120,
   "id": "b4de50c7",
   "metadata": {},
   "outputs": [],
   "source": [
    "# Interpretation: The diagonal line (red line) is the regression line and the blue points are the cumulative distribution of the residuals. As some of the points are away from the diagonal line, \n",
    "#we conclude that the residuals do not follow a normal distribution."
   ]
  },
  {
   "cell_type": "markdown",
   "id": "0359d342",
   "metadata": {},
   "source": [
    "# Random Forest Regressor"
   ]
  },
  {
   "cell_type": "code",
   "execution_count": 126,
   "id": "cd84527e",
   "metadata": {},
   "outputs": [],
   "source": [
    "rf_Regressor = RandomForestRegressor(n_estimators = 10, random_state = 10)\n",
    "rf_model = rf_Regressor.fit(X_train, y_train)"
   ]
  },
  {
   "cell_type": "code",
   "execution_count": 127,
   "id": "b83b0c80",
   "metadata": {},
   "outputs": [
    {
     "name": "stdout",
     "output_type": "stream",
     "text": [
      "0.2253\n"
     ]
    }
   ],
   "source": [
    "train_pred = rf_model.predict(X_train)\n",
    "mse_train = mean_squared_error(y_train, train_pred) \n",
    "rmse_train = round(np.sqrt(mse_train), 4)\n",
    "print(rmse_train)"
   ]
  },
  {
   "cell_type": "code",
   "execution_count": 128,
   "id": "2d7552bf",
   "metadata": {},
   "outputs": [
    {
     "name": "stdout",
     "output_type": "stream",
     "text": [
      "0.5392\n"
     ]
    }
   ],
   "source": [
    "test_pred = rf_model.predict(X_test)\n",
    "mse_test = mean_squared_error(y_test, test_pred)\n",
    "rmse_test = round(np.sqrt(mse_test), 4)\n",
    "print(rmse_test)"
   ]
  },
  {
   "cell_type": "code",
   "execution_count": 129,
   "id": "9505cb6a",
   "metadata": {},
   "outputs": [],
   "source": [
    "#The difference between the train and test rmse is  high indicating variation in the data."
   ]
  },
  {
   "cell_type": "markdown",
   "id": "3fb09614",
   "metadata": {},
   "source": [
    "# Recursive Feature Elimination(RFE)"
   ]
  },
  {
   "cell_type": "code",
   "execution_count": 130,
   "id": "e752fa05",
   "metadata": {},
   "outputs": [
    {
     "name": "stdout",
     "output_type": "stream",
     "text": [
      "Index(['Relative Compactness', 'Surface Area', 'Wall Area', 'Roof Area'], dtype='object')\n"
     ]
    }
   ],
   "source": [
    "linreg_rfe = LinearRegression()\n",
    "\n",
    "rfe_model = RFE(estimator=linreg_rfe)\n",
    "\n",
    "# fit the RFE model on the training dataset using fit()\n",
    "rfe_model = rfe_model.fit(X_train, y_train)\n",
    "\n",
    "feat_index = pd.Series(data = rfe_model.ranking_, index = X_train.columns)\n",
    "\n",
    "signi_feat_rfe = feat_index[feat_index==1].index\n",
    "\n",
    "print(signi_feat_rfe)"
   ]
  },
  {
   "cell_type": "code",
   "execution_count": 131,
   "id": "099d4b64",
   "metadata": {},
   "outputs": [],
   "source": [
    "X1=df[['Relative Compactness', 'Surface Area', 'Wall Area', 'Roof Area']]"
   ]
  },
  {
   "cell_type": "code",
   "execution_count": 132,
   "id": "ab3f3c80",
   "metadata": {},
   "outputs": [],
   "source": [
    "df_tar=df['Heating Load']"
   ]
  },
  {
   "cell_type": "code",
   "execution_count": 133,
   "id": "8abf9804",
   "metadata": {},
   "outputs": [],
   "source": [
    "y = (df_tar - df_tar.mean()) / df_tar.std()"
   ]
  },
  {
   "cell_type": "code",
   "execution_count": 134,
   "id": "4fd652f6",
   "metadata": {},
   "outputs": [
    {
     "name": "stdout",
     "output_type": "stream",
     "text": [
      "X_train (537, 4)\n",
      "y_train (537,)\n",
      "X_test (231, 4)\n",
      "y_test (231,)\n"
     ]
    }
   ],
   "source": [
    "X_train, X_test, y_train, y_test = train_test_split(X1, y, random_state = 10, test_size = 0.3)\n",
    "print('X_train', X_train.shape)\n",
    "print('y_train', y_train.shape)\n",
    "print('X_test', X_test.shape)\n",
    "print('y_test', y_test.shape)"
   ]
  },
  {
   "cell_type": "markdown",
   "id": "f225c639",
   "metadata": {},
   "source": [
    "# Multiple Linear Regression(OLS)"
   ]
  },
  {
   "cell_type": "code",
   "execution_count": 135,
   "id": "6c2c5b00",
   "metadata": {},
   "outputs": [
    {
     "data": {
      "text/plain": [
       "0.8202067446878851"
      ]
     },
     "execution_count": 135,
     "metadata": {},
     "output_type": "execute_result"
    }
   ],
   "source": [
    "linreg = LinearRegression()\n",
    "MLR_model = linreg.fit(X_train, y_train)\n",
    "MLR_model.score(X_train, y_train)"
   ]
  },
  {
   "cell_type": "markdown",
   "id": "cd023475",
   "metadata": {},
   "source": [
    "# Gradient Boosting with RFE"
   ]
  },
  {
   "cell_type": "code",
   "execution_count": 136,
   "id": "5427017d",
   "metadata": {},
   "outputs": [
    {
     "data": {
      "text/plain": [
       "GradientBoostingRegressor(max_depth=10, n_estimators=150, random_state=10)"
      ]
     },
     "execution_count": 136,
     "metadata": {},
     "output_type": "execute_result"
    }
   ],
   "source": [
    "gboost_model = GradientBoostingRegressor(n_estimators = 150, max_depth = 10, random_state = 10)\n",
    "gboost_model.fit(X_train, y_train)"
   ]
  },
  {
   "cell_type": "code",
   "execution_count": 137,
   "id": "5e0b137f",
   "metadata": {},
   "outputs": [
    {
     "name": "stdout",
     "output_type": "stream",
     "text": [
      "0.3058\n"
     ]
    }
   ],
   "source": [
    "train_pred = gboost_model.predict(X_train)\n",
    "mse_train = mean_squared_error(y_train, train_pred) \n",
    "rmse_train = round(np.sqrt(mse_train), 4)\n",
    "print(rmse_train)"
   ]
  },
  {
   "cell_type": "code",
   "execution_count": 138,
   "id": "34888b57",
   "metadata": {},
   "outputs": [
    {
     "name": "stdout",
     "output_type": "stream",
     "text": [
      "0.2964\n"
     ]
    }
   ],
   "source": [
    "test_pred = gboost_model.predict(X_test)\n",
    "mse_test = mean_squared_error(y_test, test_pred)\n",
    "rmse_test = round(np.sqrt(mse_test), 4)\n",
    "print(rmse_test)"
   ]
  },
  {
   "cell_type": "code",
   "execution_count": 139,
   "id": "f8a939eb",
   "metadata": {},
   "outputs": [],
   "source": [
    "#Inference-Gradient boosting method with rfe has low rmse of train and test and the difference between them is also minor indicating this method as one of the optimum method to predict heating load."
   ]
  }
 ],
 "metadata": {
  "kernelspec": {
   "display_name": "Python 3 (ipykernel)",
   "language": "python",
   "name": "python3"
  },
  "language_info": {
   "codemirror_mode": {
    "name": "ipython",
    "version": 3
   },
   "file_extension": ".py",
   "mimetype": "text/x-python",
   "name": "python",
   "nbconvert_exporter": "python",
   "pygments_lexer": "ipython3",
   "version": "3.9.7"
  }
 },
 "nbformat": 4,
 "nbformat_minor": 5
}
